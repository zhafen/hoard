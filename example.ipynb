{
 "cells": [
  {
   "cell_type": "code",
   "execution_count": 1,
   "metadata": {},
   "outputs": [],
   "source": [
    "import pandas as pd"
   ]
  },
  {
   "cell_type": "code",
   "execution_count": 2,
   "metadata": {},
   "outputs": [],
   "source": [
    "%load_ext autoreload\n",
    "%autoreload"
   ]
  },
  {
   "cell_type": "code",
   "execution_count": 3,
   "metadata": {},
   "outputs": [],
   "source": [
    "import hoard.bank as hoard_bank\n",
    "import hoard.settings as hoard_settings\n",
    "import hoard.treasure as treasure"
   ]
  },
  {
   "cell_type": "code",
   "execution_count": 4,
   "metadata": {},
   "outputs": [
    {
     "data": {
      "text/plain": [
       "<module 'hoard.bank' from 'hoard/bank.pyc'>"
      ]
     },
     "execution_count": 4,
     "metadata": {},
     "output_type": "execute_result"
    }
   ],
   "source": [
    "reload( treasure )\n",
    "reload( hoard_settings )\n",
    "reload( hoard_bank )"
   ]
  },
  {
   "cell_type": "markdown",
   "metadata": {},
   "source": [
    "# Set up"
   ]
  },
  {
   "cell_type": "code",
   "execution_count": 5,
   "metadata": {},
   "outputs": [],
   "source": [
    "settings = hoard_settings.Settings(\n",
    "    'steven',\n",
    "    '/Users/zhafen/repos/hoard/tests/data/test_google_drive_data',\n",
    ")"
   ]
  },
  {
   "cell_type": "code",
   "execution_count": 6,
   "metadata": {},
   "outputs": [],
   "source": [
    "bank = hoard_bank.Bank(\n",
    "    settings,\n",
    ")"
   ]
  },
  {
   "cell_type": "markdown",
   "metadata": {},
   "source": [
    "# Chest"
   ]
  },
  {
   "cell_type": "code",
   "execution_count": 7,
   "metadata": {},
   "outputs": [],
   "source": [
    "chest = treasure.TreasureChest(\n",
    "    settings = settings,\n",
    "    n_tokens = 1000,\n",
    ")"
   ]
  },
  {
   "cell_type": "code",
   "execution_count": 8,
   "metadata": {},
   "outputs": [
    {
     "data": {
      "text/html": [
       "<div>\n",
       "<table border=\"1\" class=\"dataframe\">\n",
       "  <thead>\n",
       "    <tr style=\"text-align: right;\">\n",
       "      <th></th>\n",
       "      <th>Name</th>\n",
       "      <th>Value</th>\n",
       "      <th>Website</th>\n",
       "      <th>Item Type</th>\n",
       "      <th>Identified</th>\n",
       "      <th>Chest ID</th>\n",
       "      <th>Time</th>\n",
       "    </tr>\n",
       "  </thead>\n",
       "  <tbody>\n",
       "    <tr>\n",
       "      <th>0</th>\n",
       "      <td>cake donut</td>\n",
       "      <td>1</td>\n",
       "      <td>biiigdonut.com</td>\n",
       "      <td>Donut</td>\n",
       "      <td>False</td>\n",
       "      <td>555958353945</td>\n",
       "      <td>2018-06-02 10:51:18.048059</td>\n",
       "    </tr>\n",
       "    <tr>\n",
       "      <th>1</th>\n",
       "      <td>donut with rainbow sprinkles</td>\n",
       "      <td>1.25</td>\n",
       "      <td>biiigdonut.com</td>\n",
       "      <td>Donut</td>\n",
       "      <td>False</td>\n",
       "      <td>555958353945</td>\n",
       "      <td>2018-06-02 10:51:18.143608</td>\n",
       "    </tr>\n",
       "    <tr>\n",
       "      <th>2</th>\n",
       "      <td>donut with rainbow sprinkles</td>\n",
       "      <td>1.25</td>\n",
       "      <td>biiigdonut.com</td>\n",
       "      <td>Donut</td>\n",
       "      <td>False</td>\n",
       "      <td>555958353945</td>\n",
       "      <td>2018-06-02 10:51:18.225349</td>\n",
       "    </tr>\n",
       "    <tr>\n",
       "      <th>3</th>\n",
       "      <td>fry bits</td>\n",
       "      <td>2</td>\n",
       "      <td>petes.com</td>\n",
       "      <td>Fried Food</td>\n",
       "      <td>False</td>\n",
       "      <td>555958353945</td>\n",
       "      <td>2018-06-02 10:51:18.230665</td>\n",
       "    </tr>\n",
       "    <tr>\n",
       "      <th>4</th>\n",
       "      <td>donut with rainbow sprinkles</td>\n",
       "      <td>1.25</td>\n",
       "      <td>biiigdonut.com</td>\n",
       "      <td>Donut</td>\n",
       "      <td>False</td>\n",
       "      <td>555958353945</td>\n",
       "      <td>2018-06-02 10:51:18.251811</td>\n",
       "    </tr>\n",
       "  </tbody>\n",
       "</table>\n",
       "</div>"
      ],
      "text/plain": [
       "                           Name Value         Website   Item Type Identified  \\\n",
       "0                    cake donut     1  biiigdonut.com       Donut      False   \n",
       "1  donut with rainbow sprinkles  1.25  biiigdonut.com       Donut      False   \n",
       "2  donut with rainbow sprinkles  1.25  biiigdonut.com       Donut      False   \n",
       "3                      fry bits     2       petes.com  Fried Food      False   \n",
       "4  donut with rainbow sprinkles  1.25  biiigdonut.com       Donut      False   \n",
       "\n",
       "       Chest ID                        Time  \n",
       "0  555958353945  2018-06-02 10:51:18.048059  \n",
       "1  555958353945  2018-06-02 10:51:18.143608  \n",
       "2  555958353945  2018-06-02 10:51:18.225349  \n",
       "3  555958353945  2018-06-02 10:51:18.230665  \n",
       "4  555958353945  2018-06-02 10:51:18.251811  "
      ]
     },
     "execution_count": 8,
     "metadata": {},
     "output_type": "execute_result"
    }
   ],
   "source": [
    "chest.items"
   ]
  },
  {
   "cell_type": "code",
   "execution_count": 9,
   "metadata": {},
   "outputs": [
    {
     "name": "stdout",
     "output_type": "stream",
     "text": [
      "You open a chest! In the chest you find...\n",
      "an unidentified Donut,\n",
      "an unidentified Donut,\n",
      "an unidentified Donut,\n",
      "an unidentified Fried Food,\n",
      "an unidentified Donut,\n",
      "and 2964 gold!\n"
     ]
    }
   ],
   "source": [
    "chest.open()"
   ]
  },
  {
   "cell_type": "code",
   "execution_count": 10,
   "metadata": {},
   "outputs": [
    {
     "name": "stdout",
     "output_type": "stream",
     "text": [
      "Chest deposited! Current balance is 40420 gold.\n"
     ]
    }
   ],
   "source": [
    "bank.deposit( chest )"
   ]
  },
  {
   "cell_type": "code",
   "execution_count": 11,
   "metadata": {},
   "outputs": [
    {
     "data": {
      "text/html": [
       "<div>\n",
       "<table border=\"1\" class=\"dataframe\">\n",
       "  <thead>\n",
       "    <tr style=\"text-align: right;\">\n",
       "      <th></th>\n",
       "      <th>Chest ID</th>\n",
       "      <th>Identified</th>\n",
       "      <th>Item Type</th>\n",
       "      <th>Name</th>\n",
       "      <th>Time</th>\n",
       "      <th>Value</th>\n",
       "      <th>Website</th>\n",
       "    </tr>\n",
       "  </thead>\n",
       "  <tbody>\n",
       "    <tr>\n",
       "      <th>0</th>\n",
       "      <td>904054205130</td>\n",
       "      <td>False</td>\n",
       "      <td>Fried Food</td>\n",
       "      <td>fry bits</td>\n",
       "      <td>2018-05-27 09:30:28</td>\n",
       "      <td>2</td>\n",
       "      <td>petes.com</td>\n",
       "    </tr>\n",
       "    <tr>\n",
       "      <th>1</th>\n",
       "      <td>904054205130</td>\n",
       "      <td>False</td>\n",
       "      <td>Donut</td>\n",
       "      <td>cake donut</td>\n",
       "      <td>2018-05-27 09:30:28</td>\n",
       "      <td>1</td>\n",
       "      <td>biiigdonut.com</td>\n",
       "    </tr>\n",
       "    <tr>\n",
       "      <th>2</th>\n",
       "      <td>839439380159</td>\n",
       "      <td>False</td>\n",
       "      <td>Donut</td>\n",
       "      <td>donut with rainbow sprinkles</td>\n",
       "      <td>1527935603649576960</td>\n",
       "      <td>1.25</td>\n",
       "      <td>biiigdonut.com</td>\n",
       "    </tr>\n",
       "    <tr>\n",
       "      <th>3</th>\n",
       "      <td>839439380159</td>\n",
       "      <td>False</td>\n",
       "      <td>Fried Food</td>\n",
       "      <td>fry bits</td>\n",
       "      <td>1527935603678191104</td>\n",
       "      <td>2</td>\n",
       "      <td>petes.com</td>\n",
       "    </tr>\n",
       "    <tr>\n",
       "      <th>4</th>\n",
       "      <td>839439380159</td>\n",
       "      <td>False</td>\n",
       "      <td>Donut</td>\n",
       "      <td>donut with rainbow sprinkles</td>\n",
       "      <td>1527935603853044992</td>\n",
       "      <td>1.25</td>\n",
       "      <td>biiigdonut.com</td>\n",
       "    </tr>\n",
       "    <tr>\n",
       "      <th>5</th>\n",
       "      <td>555958353945</td>\n",
       "      <td>False</td>\n",
       "      <td>Donut</td>\n",
       "      <td>cake donut</td>\n",
       "      <td>2018-06-02 10:51:18.048059</td>\n",
       "      <td>1</td>\n",
       "      <td>biiigdonut.com</td>\n",
       "    </tr>\n",
       "    <tr>\n",
       "      <th>6</th>\n",
       "      <td>555958353945</td>\n",
       "      <td>False</td>\n",
       "      <td>Donut</td>\n",
       "      <td>donut with rainbow sprinkles</td>\n",
       "      <td>2018-06-02 10:51:18.143608</td>\n",
       "      <td>1.25</td>\n",
       "      <td>biiigdonut.com</td>\n",
       "    </tr>\n",
       "    <tr>\n",
       "      <th>7</th>\n",
       "      <td>555958353945</td>\n",
       "      <td>False</td>\n",
       "      <td>Donut</td>\n",
       "      <td>donut with rainbow sprinkles</td>\n",
       "      <td>2018-06-02 10:51:18.225349</td>\n",
       "      <td>1.25</td>\n",
       "      <td>biiigdonut.com</td>\n",
       "    </tr>\n",
       "    <tr>\n",
       "      <th>8</th>\n",
       "      <td>555958353945</td>\n",
       "      <td>False</td>\n",
       "      <td>Fried Food</td>\n",
       "      <td>fry bits</td>\n",
       "      <td>2018-06-02 10:51:18.230665</td>\n",
       "      <td>2</td>\n",
       "      <td>petes.com</td>\n",
       "    </tr>\n",
       "    <tr>\n",
       "      <th>9</th>\n",
       "      <td>555958353945</td>\n",
       "      <td>False</td>\n",
       "      <td>Donut</td>\n",
       "      <td>donut with rainbow sprinkles</td>\n",
       "      <td>2018-06-02 10:51:18.251811</td>\n",
       "      <td>1.25</td>\n",
       "      <td>biiigdonut.com</td>\n",
       "    </tr>\n",
       "  </tbody>\n",
       "</table>\n",
       "</div>"
      ],
      "text/plain": [
       "       Chest ID Identified   Item Type                          Name  \\\n",
       "0  904054205130      False  Fried Food                      fry bits   \n",
       "1  904054205130      False       Donut                    cake donut   \n",
       "2  839439380159      False       Donut  donut with rainbow sprinkles   \n",
       "3  839439380159      False  Fried Food                      fry bits   \n",
       "4  839439380159      False       Donut  donut with rainbow sprinkles   \n",
       "5  555958353945      False       Donut                    cake donut   \n",
       "6  555958353945      False       Donut  donut with rainbow sprinkles   \n",
       "7  555958353945      False       Donut  donut with rainbow sprinkles   \n",
       "8  555958353945      False  Fried Food                      fry bits   \n",
       "9  555958353945      False       Donut  donut with rainbow sprinkles   \n",
       "\n",
       "                         Time Value         Website  \n",
       "0         2018-05-27 09:30:28     2       petes.com  \n",
       "1         2018-05-27 09:30:28     1  biiigdonut.com  \n",
       "2         1527935603649576960  1.25  biiigdonut.com  \n",
       "3         1527935603678191104     2       petes.com  \n",
       "4         1527935603853044992  1.25  biiigdonut.com  \n",
       "5  2018-06-02 10:51:18.048059     1  biiigdonut.com  \n",
       "6  2018-06-02 10:51:18.143608  1.25  biiigdonut.com  \n",
       "7  2018-06-02 10:51:18.225349  1.25  biiigdonut.com  \n",
       "8  2018-06-02 10:51:18.230665     2       petes.com  \n",
       "9  2018-06-02 10:51:18.251811  1.25  biiigdonut.com  "
      ]
     },
     "execution_count": 11,
     "metadata": {},
     "output_type": "execute_result"
    }
   ],
   "source": [
    "bank.item_record"
   ]
  }
 ],
 "metadata": {
  "kernelspec": {
   "display_name": "Python [conda root]",
   "language": "python",
   "name": "conda-root-py"
  },
  "language_info": {
   "codemirror_mode": {
    "name": "ipython",
    "version": 2
   },
   "file_extension": ".py",
   "mimetype": "text/x-python",
   "name": "python",
   "nbconvert_exporter": "python",
   "pygments_lexer": "ipython2",
   "version": "2.7.12"
  }
 },
 "nbformat": 4,
 "nbformat_minor": 2
}
